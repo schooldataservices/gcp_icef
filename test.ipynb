{
 "cells": [
  {
   "cell_type": "code",
   "execution_count": null,
   "metadata": {},
   "outputs": [
    {
     "name": "stdout",
     "output_type": "stream",
     "text": [
      "01-Apr-25 19:06:25 - \n",
      "\n",
      "-------------New Logging Instance\n"
     ]
    },
    {
     "name": "stdout",
     "output_type": "stream",
     "text": [
      "01-Apr-25 19:06:25 - Processing config for task sftp_file_exchange_iready_import: {'sftp_type': 'iready_import', 'local_sftp_type': 'local_sftp', 'import_or_export': 'import', 'target_sftp_folder_name': '/exports/Current_Year/', 'files_to_download': ['diagnostic_results_ela_CONFIDENTIAL.csv', 'diagnostic_results_math_CONFIDENTIAL.csv', 'iready_instruction_by_lesson_math_CONFIDENTIAL.csv', 'iready_instruction_by_lesson_ela_CONFIDENTIAL.csv'], 'naming_dict': {'diagnostic_results_ela_CONFIDENTIAL.csv': 'diagnostic_results_ela.csv', 'diagnostic_results_math_CONFIDENTIAL.csv': 'diagnostic_results_math.csv', 'iready_instruction_by_lesson_math_CONFIDENTIAL.csv': 'iready_instruction_by_lesson_math.csv', 'iready_instruction_by_lesson_ela_CONFIDENTIAL.csv': 'iready_instruction_by_lesson_ela.csv'}, 'export_local_bq_replications': False, 'project_id': 'icef-437920', 'bucket_name': 'iradybucket-icefschools-1', 'destination_blob_name': ''}\n",
      "01-Apr-25 19:06:25 - sftp_type: iready_import\n",
      "01-Apr-25 19:06:25 - local_sftp_type: local_sftp\n",
      "01-Apr-25 19:06:25 - import_or_export: import\n",
      "01-Apr-25 19:06:25 - target_sftp_folder_name: /exports/Current_Year/\n",
      "01-Apr-25 19:06:25 - local_sftp_folder_name: None\n",
      "01-Apr-25 19:06:25 - files_to_download: ['diagnostic_results_ela_CONFIDENTIAL.csv', 'diagnostic_results_math_CONFIDENTIAL.csv', 'iready_instruction_by_lesson_math_CONFIDENTIAL.csv', 'iready_instruction_by_lesson_ela_CONFIDENTIAL.csv']\n",
      "01-Apr-25 19:06:25 - use_pool: False\n",
      "01-Apr-25 19:06:25 - naming_dict: {'diagnostic_results_ela_CONFIDENTIAL.csv': 'diagnostic_results_ela.csv', 'diagnostic_results_math_CONFIDENTIAL.csv': 'diagnostic_results_math.csv', 'iready_instruction_by_lesson_math_CONFIDENTIAL.csv': 'iready_instruction_by_lesson_math.csv', 'iready_instruction_by_lesson_ela_CONFIDENTIAL.csv': 'iready_instruction_by_lesson_ela.csv'}\n",
      "01-Apr-25 19:06:25 - db: None\n",
      "01-Apr-25 19:06:25 - export_local_bq_replications: False\n",
      "01-Apr-25 19:06:25 - use_pool: False\n",
      "01-Apr-25 19:06:25 - project_id: icef-437920\n",
      "01-Apr-25 19:06:25 - \n",
      "\n",
      "\n",
      "\\Attempting to setup SFTP connection for iready_import\n",
      "01-Apr-25 19:06:25 - JSON file path: /app/icef-437920.json\n",
      "01-Apr-25 19:06:25 - Error loading credentials: [Errno 2] No such file or directory: '/app/icef-437920.json'\n"
     ]
    },
    {
     "ename": "AirflowException",
     "evalue": "Failed to load credentials: [Errno 2] No such file or directory: '/app/icef-437920.json'",
     "output_type": "error",
     "traceback": [
      "\u001b[31m---------------------------------------------------------------------------\u001b[39m",
      "\u001b[31mFileNotFoundError\u001b[39m                         Traceback (most recent call last)",
      "\u001b[36mFile \u001b[39m\u001b[32m~/git_directory/ICEF/bigquery_data_transfers/modules/sftp_utils.py:98\u001b[39m, in \u001b[36mSFTPConnection.load_credentials\u001b[39m\u001b[34m(cls)\u001b[39m\n\u001b[32m     97\u001b[39m \u001b[38;5;28;01mtry\u001b[39;00m:\n\u001b[32m---> \u001b[39m\u001b[32m98\u001b[39m     \u001b[38;5;28;01mwith\u001b[39;00m \u001b[38;5;28;43mopen\u001b[39;49m\u001b[43m(\u001b[49m\u001b[43mjson_file_path\u001b[49m\u001b[43m)\u001b[49m \u001b[38;5;28;01mas\u001b[39;00m json_file:\n\u001b[32m     99\u001b[39m         credentials = json.load(json_file)\n",
      "\u001b[31mFileNotFoundError\u001b[39m: [Errno 2] No such file or directory: '/app/icef-437920.json'",
      "\nDuring handling of the above exception, another exception occurred:\n",
      "\u001b[31mAirflowException\u001b[39m                          Traceback (most recent call last)",
      "\u001b[36mCell\u001b[39m\u001b[36m \u001b[39m\u001b[32mIn[4]\u001b[39m\u001b[32m, line 42\u001b[39m\n\u001b[32m     38\u001b[39m     task_id = \u001b[33mf\u001b[39m\u001b[33m\"\u001b[39m\u001b[33msftp_file_exchange_\u001b[39m\u001b[38;5;132;01m{\u001b[39;00mconfig[\u001b[33m'\u001b[39m\u001b[33msftp_type\u001b[39m\u001b[33m'\u001b[39m]\u001b[38;5;132;01m}\u001b[39;00m\u001b[33m\"\u001b[39m\n\u001b[32m     39\u001b[39m     logging.info(\u001b[33mf\u001b[39m\u001b[33m\"\u001b[39m\u001b[33mProcessing config for task \u001b[39m\u001b[38;5;132;01m{\u001b[39;00mtask_id\u001b[38;5;132;01m}\u001b[39;00m\u001b[33m: \u001b[39m\u001b[38;5;132;01m{\u001b[39;00mconfig\u001b[38;5;132;01m}\u001b[39;00m\u001b[33m\"\u001b[39m)\n\u001b[32m---> \u001b[39m\u001b[32m42\u001b[39m     \u001b[43mSFTP_conn_file_exchange\u001b[49m\u001b[43m(\u001b[49m\u001b[43m*\u001b[49m\u001b[43m*\u001b[49m\u001b[43mconfig\u001b[49m\u001b[43m)\u001b[49m\n\u001b[32m     45\u001b[39m \u001b[38;5;66;03m#Defauted to downloading all files\u001b[39;00m\n\u001b[32m     46\u001b[39m \u001b[38;5;66;03m#The files_to_download variable is being passed down as None not sure why\u001b[39;00m\n",
      "\u001b[36mFile \u001b[39m\u001b[32m~/git_directory/ICEF/bigquery_data_transfers/modules/sftp_ops.py:47\u001b[39m, in \u001b[36mSFTP_conn_file_exchange\u001b[39m\u001b[34m(**kwargs)\u001b[39m\n\u001b[32m     43\u001b[39m logging.info(\u001b[33mf\u001b[39m\u001b[33m\"\u001b[39m\u001b[33mproject_id: \u001b[39m\u001b[38;5;132;01m{\u001b[39;00mproject_id\u001b[38;5;132;01m}\u001b[39;00m\u001b[33m\"\u001b[39m)\n\u001b[32m     46\u001b[39m \u001b[38;5;66;03m#specific conns retrieved\u001b[39;00m\n\u001b[32m---> \u001b[39m\u001b[32m47\u001b[39m sftp_conn_obj = \u001b[43mSFTPConnection\u001b[49m\u001b[43m.\u001b[49m\u001b[43msetup_sftp_connection\u001b[49m\u001b[43m(\u001b[49m\u001b[43mtype_\u001b[49m\u001b[43m=\u001b[49m\u001b[43msftp_type\u001b[49m\u001b[43m)\u001b[49m\n\u001b[32m     48\u001b[39m sftp_conn = sftp_conn_obj.get_connection()\n\u001b[32m     49\u001b[39m logging.info(\u001b[33mf\u001b[39m\u001b[33m'\u001b[39m\u001b[38;5;130;01m\\n\u001b[39;00m\u001b[38;5;130;01m\\n\u001b[39;00m\u001b[38;5;130;01m\\n\u001b[39;00m\u001b[33mSFTP singular connection established successfully for \u001b[39m\u001b[38;5;132;01m{\u001b[39;00msftp_type\u001b[38;5;132;01m}\u001b[39;00m\u001b[33m'\u001b[39m)\n",
      "\u001b[36mFile \u001b[39m\u001b[32m~/git_directory/ICEF/bigquery_data_transfers/modules/sftp_utils.py:114\u001b[39m, in \u001b[36mSFTPConnection.setup_sftp_connection\u001b[39m\u001b[34m(cls, type_)\u001b[39m\n\u001b[32m    111\u001b[39m     logging.info(\u001b[33m\"\u001b[39m\u001b[33mNo type provided for SFTP connection. Skipping setup.\u001b[39m\u001b[33m\"\u001b[39m)\n\u001b[32m    112\u001b[39m     \u001b[38;5;28;01mreturn\u001b[39;00m \u001b[38;5;28;01mNone\u001b[39;00m  \u001b[38;5;66;03m# Skip connection setup if no type is provided\u001b[39;00m\n\u001b[32m--> \u001b[39m\u001b[32m114\u001b[39m creds = \u001b[38;5;28;43mcls\u001b[39;49m\u001b[43m.\u001b[49m\u001b[43mload_credentials\u001b[49m\u001b[43m(\u001b[49m\u001b[43m)\u001b[49m\n\u001b[32m    115\u001b[39m \u001b[38;5;28;01mif\u001b[39;00m creds \u001b[38;5;129;01mis\u001b[39;00m \u001b[38;5;28;01mNone\u001b[39;00m:\n\u001b[32m    116\u001b[39m     \u001b[38;5;28;01mraise\u001b[39;00m AirflowException(\u001b[33m\"\u001b[39m\u001b[33mCredentials are required to establish SFTP connection.\u001b[39m\u001b[33m\"\u001b[39m)\n",
      "\u001b[36mFile \u001b[39m\u001b[32m~/git_directory/ICEF/bigquery_data_transfers/modules/sftp_utils.py:104\u001b[39m, in \u001b[36mSFTPConnection.load_credentials\u001b[39m\u001b[34m(cls)\u001b[39m\n\u001b[32m    102\u001b[39m \u001b[38;5;28;01mexcept\u001b[39;00m \u001b[38;5;167;01mException\u001b[39;00m \u001b[38;5;28;01mas\u001b[39;00m e:\n\u001b[32m    103\u001b[39m     logging.error(\u001b[33mf\u001b[39m\u001b[33m\"\u001b[39m\u001b[33mError loading credentials: \u001b[39m\u001b[38;5;132;01m{\u001b[39;00me\u001b[38;5;132;01m}\u001b[39;00m\u001b[33m\"\u001b[39m)\n\u001b[32m--> \u001b[39m\u001b[32m104\u001b[39m     \u001b[38;5;28;01mraise\u001b[39;00m AirflowException(\u001b[33mf\u001b[39m\u001b[33m\"\u001b[39m\u001b[33mFailed to load credentials: \u001b[39m\u001b[38;5;132;01m{\u001b[39;00me\u001b[38;5;132;01m}\u001b[39;00m\u001b[33m\"\u001b[39m)\n",
      "\u001b[31mAirflowException\u001b[39m: Failed to load credentials: [Errno 2] No such file or directory: '/app/icef-437920.json'"
     ]
    }
   ],
   "source": [
    "import sys\n",
    "import os\n",
    "import logging\n",
    "from datetime import timedelta, datetime\n",
    "# working_dir = os.path.join(os.environ['AIRFLOW_HOME'], 'git_directory/SFTP_Migrations')\n",
    "# sys.path.append(working_dir)\n",
    "\n",
    "from airflow import DAG\n",
    "from airflow.operators.python import PythonOperator\n",
    "from airflow.utils.dates import days_ago\n",
    "from modules.sftp_utils import *\n",
    "from modules.sftp_configs import *\n",
    "from modules.sftp_ops import *\n",
    "\n",
    "# Configure the path for logs inside the container\n",
    "log_file = os.getcwd() + '/logs'\n",
    "\n",
    "# Ensure proper logging setup\n",
    "for handler in logging.root.handlers[:]:\n",
    "    logging.root.removeHandler(handler)\n",
    "\n",
    "# Configure logging to both stdout (for Airflow UI) and a file inside the container\n",
    "logging.basicConfig(\n",
    "    level=logging.INFO,\n",
    "    format='%(asctime)s - %(message)s',\n",
    "    datefmt='%d-%b-%y %H:%M:%S',\n",
    "    handlers=[\n",
    "        logging.StreamHandler(sys.stdout),  # Log to Airflow UI via stdout\n",
    "        logging.FileHandler(log_file)      # Log to a file inside the container\n",
    "    ]\n",
    ")\n",
    "\n",
    "logging.info('\\n\\n-------------New Logging Instance')\n",
    "\n",
    "# --------------------------------------\n",
    "for config in sftp_configs:\n",
    "\n",
    "    task_id = f\"sftp_file_exchange_{config['sftp_type']}\"\n",
    "    logging.info(f\"Processing config for task {task_id}: {config}\")\n",
    "\n",
    "\n",
    "    SFTP_conn_file_exchange(**config)\n",
    "\n",
    "\n",
    "#Defauted to downloading all files\n",
    "#The files_to_download variable is being passed down as None not sure why"
   ]
  }
 ],
 "metadata": {
  "kernelspec": {
   "display_name": "venv",
   "language": "python",
   "name": "python3"
  },
  "language_info": {
   "codemirror_mode": {
    "name": "ipython",
    "version": 3
   },
   "file_extension": ".py",
   "mimetype": "text/x-python",
   "name": "python",
   "nbconvert_exporter": "python",
   "pygments_lexer": "ipython3",
   "version": "3.12.3"
  }
 },
 "nbformat": 4,
 "nbformat_minor": 2
}
